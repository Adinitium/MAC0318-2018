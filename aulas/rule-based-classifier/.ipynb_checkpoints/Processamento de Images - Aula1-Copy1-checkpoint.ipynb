{
 "cells": [
  {
   "cell_type": "code",
   "execution_count": 1,
   "metadata": {},
   "outputs": [],
   "source": [
    "import numpy as np\n",
    "import math\n",
    "import sklearn as sk\n",
    "import pandas as pd\n",
    "import matplotlib.pyplot as plt\n",
    "import IPython.display as display\n",
    "# from PIL import Image\n",
    "from sklearn.datasets import fetch_mldata\n",
    "from sklearn.metrics import classification_report\n",
    "from pandas_ml import ConfusionMatrix\n",
    "\n",
    "%matplotlib inline "
   ]
  },
  {
   "cell_type": "markdown",
   "metadata": {},
   "source": [
    "### Download MNIST e separar apenas os exemplos de dígitos 0 e 1"
   ]
  },
  {
   "cell_type": "code",
   "execution_count": 2,
   "metadata": {},
   "outputs": [
    {
     "name": "stdout",
     "output_type": "stream",
     "text": [
      "(14780, 784) (14780,)\n"
     ]
    }
   ],
   "source": [
    "mnist = fetch_mldata('MNIST original') # 28x28 images\n",
    "vals = set()\n",
    "for idx, label in enumerate(mnist.target):\n",
    "    if (label < 2):\n",
    "        vals.add(idx)\n",
    "data_mnist = np.array([mnist.data[idx] for idx in vals])\n",
    "label_mnist = np.array([mnist.target[idx] for idx in vals])\n",
    "print(data_mnist.shape, label_mnist.shape)"
   ]
  },
  {
   "cell_type": "code",
   "execution_count": 8,
   "metadata": {},
   "outputs": [
    {
     "data": {
      "image/png": "[encoded data removed]",
      "text/plain": [
       "<matplotlib.figure.Figure at 0x1d59f6ad828>"
      ]
     },
     "metadata": {},
     "output_type": "display_data"
    }
   ],
   "source": [
    "# Exemplo do dataset\n",
    "array2img(data_mnist[1001], label_mnist[1001])"
   ]
  },
  {
   "cell_type": "markdown",
   "metadata": {},
   "source": [
    "### Separar aleatoriamente exemplos do dataset com 0's e 1's (é possível ter exemplos repetidos em test_data e train_data)"
   ]
  },
  {
   "cell_type": "code",
   "execution_count": 9,
   "metadata": {},
   "outputs": [
    {
     "name": "stdout",
     "output_type": "stream",
     "text": [
      "[-0.5  0.5  1.5  2.5  3.5  4.5  5.5  6.5  7.5  8.5  9.5] -0.5\n"
     ]
    },
    {
     "data": {
      "image/png": "[encoded data removed]",
      "text/plain": [
       "<matplotlib.figure.Figure at 0x1d59f6a9470>"
      ]
     },
     "metadata": {},
     "output_type": "display_data"
    }
   ],
   "source": [
    "# usar nomes diferentes para não confundir quando falarmos desses termos\n",
    "train_data, train_labels = get_samples(data_mnist, label_mnist, size=1000)\n",
    "test_data, test_labels = get_samples(data_mnist, label_mnist, size=100)\n",
    "plot_histogram(mnist.target)"
   ]
  },
  {
   "cell_type": "markdown",
   "metadata": {},
   "source": [
    "### Snippet simples que itera sobre uma lista de vetores de imagem e mostra eles em tela com uma pausa de 1 segundo "
   ]
  },
  {
   "cell_type": "code",
   "execution_count": 10,
   "metadata": {},
   "outputs": [
    {
     "data": {
      "text/plain": [
       "<matplotlib.figure.Figure at 0x1d5a24cc9e8>"
      ]
     },
     "metadata": {},
     "output_type": "display_data"
    },
    {
     "data": {
      "image/png": "[encoded data removed]",
      "text/plain": [
       "<matplotlib.figure.Figure at 0x1d5a24cc9e8>"
      ]
     },
     "metadata": {},
     "output_type": "display_data"
    },
    {
     "ename": "KeyboardInterrupt",
     "evalue": "",
     "output_type": "error",
     "traceback": [
      "\u001b[1;31m---------------------------------------------------------------------------\u001b[0m",
      "\u001b[1;31mKeyboardInterrupt\u001b[0m                         Traceback (most recent call last)",
      "\u001b[1;32m<ipython-input-10-316406f4e72d>\u001b[0m in \u001b[0;36m<module>\u001b[1;34m()\u001b[0m\n\u001b[0;32m      1\u001b[0m \u001b[1;32mfor\u001b[0m \u001b[0mi\u001b[0m \u001b[1;32min\u001b[0m \u001b[0mrange\u001b[0m\u001b[1;33m(\u001b[0m\u001b[0mlen\u001b[0m\u001b[1;33m(\u001b[0m\u001b[0mtrain_data\u001b[0m\u001b[1;33m)\u001b[0m\u001b[1;33m)\u001b[0m\u001b[1;33m:\u001b[0m\u001b[1;33m\u001b[0m\u001b[0m\n\u001b[0;32m      2\u001b[0m     \u001b[0marray2img\u001b[0m\u001b[1;33m(\u001b[0m\u001b[0mtrain_data\u001b[0m\u001b[1;33m[\u001b[0m\u001b[0mi\u001b[0m\u001b[1;33m]\u001b[0m\u001b[1;33m,\u001b[0m \u001b[0mtrain_labels\u001b[0m\u001b[1;33m[\u001b[0m\u001b[0mi\u001b[0m\u001b[1;33m]\u001b[0m\u001b[1;33m)\u001b[0m\u001b[1;33m\u001b[0m\u001b[0m\n\u001b[1;32m----> 3\u001b[1;33m     \u001b[0mplt\u001b[0m\u001b[1;33m.\u001b[0m\u001b[0mpause\u001b[0m\u001b[1;33m(\u001b[0m\u001b[1;36m1\u001b[0m\u001b[1;33m)\u001b[0m\u001b[1;33m\u001b[0m\u001b[0m\n\u001b[0m\u001b[0;32m      4\u001b[0m     \u001b[0mdisplay\u001b[0m\u001b[1;33m.\u001b[0m\u001b[0mclear_output\u001b[0m\u001b[1;33m(\u001b[0m\u001b[0mwait\u001b[0m\u001b[1;33m=\u001b[0m\u001b[1;32mTrue\u001b[0m\u001b[1;33m)\u001b[0m\u001b[1;33m\u001b[0m\u001b[0m\n\u001b[0;32m      5\u001b[0m     \u001b[0mdisplay\u001b[0m\u001b[1;33m.\u001b[0m\u001b[0mdisplay\u001b[0m\u001b[1;33m(\u001b[0m\u001b[0mplt\u001b[0m\u001b[1;33m.\u001b[0m\u001b[0mgcf\u001b[0m\u001b[1;33m(\u001b[0m\u001b[1;33m)\u001b[0m\u001b[1;33m)\u001b[0m\u001b[1;33m\u001b[0m\u001b[0m\n",
      "\u001b[1;32mc:\\users\\lenovo\\appdata\\local\\programs\\python\\python36\\lib\\site-packages\\matplotlib\\pyplot.py\u001b[0m in \u001b[0;36mpause\u001b[1;34m(interval)\u001b[0m\n\u001b[0;32m    290\u001b[0m             \u001b[0mcanvas\u001b[0m\u001b[1;33m.\u001b[0m\u001b[0mdraw_idle\u001b[0m\u001b[1;33m(\u001b[0m\u001b[1;33m)\u001b[0m\u001b[1;33m\u001b[0m\u001b[0m\n\u001b[0;32m    291\u001b[0m         \u001b[0mshow\u001b[0m\u001b[1;33m(\u001b[0m\u001b[0mblock\u001b[0m\u001b[1;33m=\u001b[0m\u001b[1;32mFalse\u001b[0m\u001b[1;33m)\u001b[0m\u001b[1;33m\u001b[0m\u001b[0m\n\u001b[1;32m--> 292\u001b[1;33m         \u001b[0mcanvas\u001b[0m\u001b[1;33m.\u001b[0m\u001b[0mstart_event_loop\u001b[0m\u001b[1;33m(\u001b[0m\u001b[0minterval\u001b[0m\u001b[1;33m)\u001b[0m\u001b[1;33m\u001b[0m\u001b[0m\n\u001b[0m\u001b[0;32m    293\u001b[0m     \u001b[1;32melse\u001b[0m\u001b[1;33m:\u001b[0m\u001b[1;33m\u001b[0m\u001b[0m\n\u001b[0;32m    294\u001b[0m         \u001b[0mtime\u001b[0m\u001b[1;33m.\u001b[0m\u001b[0msleep\u001b[0m\u001b[1;33m(\u001b[0m\u001b[0minterval\u001b[0m\u001b[1;33m)\u001b[0m\u001b[1;33m\u001b[0m\u001b[0m\n",
      "\u001b[1;32mc:\\users\\lenovo\\appdata\\local\\programs\\python\\python36\\lib\\site-packages\\matplotlib\\backend_bases.py\u001b[0m in \u001b[0;36mstart_event_loop\u001b[1;34m(self, timeout)\u001b[0m\n\u001b[0;32m   2444\u001b[0m         \u001b[1;32mwhile\u001b[0m \u001b[0mself\u001b[0m\u001b[1;33m.\u001b[0m\u001b[0m_looping\u001b[0m \u001b[1;32mand\u001b[0m \u001b[0mcounter\u001b[0m \u001b[1;33m*\u001b[0m \u001b[0mtimestep\u001b[0m \u001b[1;33m<\u001b[0m \u001b[0mtimeout\u001b[0m\u001b[1;33m:\u001b[0m\u001b[1;33m\u001b[0m\u001b[0m\n\u001b[0;32m   2445\u001b[0m             \u001b[0mself\u001b[0m\u001b[1;33m.\u001b[0m\u001b[0mflush_events\u001b[0m\u001b[1;33m(\u001b[0m\u001b[1;33m)\u001b[0m\u001b[1;33m\u001b[0m\u001b[0m\n\u001b[1;32m-> 2446\u001b[1;33m             \u001b[0mtime\u001b[0m\u001b[1;33m.\u001b[0m\u001b[0msleep\u001b[0m\u001b[1;33m(\u001b[0m\u001b[0mtimestep\u001b[0m\u001b[1;33m)\u001b[0m\u001b[1;33m\u001b[0m\u001b[0m\n\u001b[0m\u001b[0;32m   2447\u001b[0m             \u001b[0mcounter\u001b[0m \u001b[1;33m+=\u001b[0m \u001b[1;36m1\u001b[0m\u001b[1;33m\u001b[0m\u001b[0m\n\u001b[0;32m   2448\u001b[0m \u001b[1;33m\u001b[0m\u001b[0m\n",
      "\u001b[1;31mKeyboardInterrupt\u001b[0m: "
     ]
    }
   ],
   "source": [
    "for i in range(len(train_data)):\n",
    "    array2img(train_data[i], train_labels[i])\n",
    "    plt.pause(1)\n",
    "    display.clear_output(wait=True)\n",
    "    display.display(plt.gcf())"
   ]
  },
  {
   "cell_type": "markdown",
   "metadata": {},
   "source": [
    "##### Exemplo - Manipulando np.arrays"
   ]
  },
  {
   "cell_type": "code",
   "execution_count": 26,
   "metadata": {},
   "outputs": [
    {
     "name": "stdout",
     "output_type": "stream",
     "text": [
      "Slice 3x3 da imagem dígito 1.0: \n",
      " [[253 253 253]\n",
      " [253 253 222]\n",
      " [253 253 201]]\n"
     ]
    },
    {
     "data": {
      "image/png": "[encoded data removed]",
      "text/plain": [
       "<matplotlib.figure.Figure at 0x25d32e0eda0>"
      ]
     },
     "metadata": {},
     "output_type": "display_data"
    }
   ],
   "source": [
    "img_a, lbl_a = train_data[4], train_labels[4]    \n",
    "img_b, lbl_b = train_data[5], train_labels[5]\n",
    "\n",
    "plt.subplot(1, 2, 1)\n",
    "array2img(img_a, lbl_a, grid=True)\n",
    "plt.subplot(1, 2, 2)\n",
    "array2img(img_b, lbl_b, grid=True)\n",
    "\n",
    "img = np.reshape(img_a, (28,28))\n",
    "# seleciona a linha 14 até a linha 17 (sem considerar a linha 17) e a coluna 13 até a 16\n",
    "center_img = img[14:17, 13:16] # corta o array 'img' em uma matriz 3x3 que corresponde aproximadamente ao centro da figura\n",
    "# print(img_a, img_a.shape)\n",
    "print(\"Slice 3x3 da imagem dígito {}: \\n\".format(lbl_a), center_img)"
   ]
  },
  {
   "cell_type": "markdown",
   "metadata": {},
   "source": [
    "## Exemplo Classificação binária de dígitos com base em regras\n",
    "\n",
    "#### Analisando as imagens dos dígitos 0 e 1, codifique uma função que receba uma imagem e retorne uma predição em float: 0.0 se o dígito for reconhecido como zero e 1.0 caso contrário\n",
    "\n",
    "###### Exemplo toy usando train_data (1000 data points)"
   ]
  },
  {
   "cell_type": "code",
   "execution_count": 11,
   "metadata": {},
   "outputs": [],
   "source": [
    "def evaluate(flat_img):\n",
    "    img = np.reshape(flat_img, (28,28))\n",
    "    center_img = img[14:17, 13:16] \n",
    "    if (np.mean(center_img) > 100):\n",
    "        return 1.0\n",
    "    else:\n",
    "        return 0.0"
   ]
  },
  {
   "cell_type": "code",
   "execution_count": 15,
   "metadata": {},
   "outputs": [
    {
     "data": {
      "image/png": "[encoded data removed]",
      "text/plain": [
       "<matplotlib.figure.Figure at 0x2311d47c1d0>"
      ]
     },
     "metadata": {},
     "output_type": "display_data"
    },
    {
     "name": "stdout",
     "output_type": "stream",
     "text": [
      "Predicted  False  True  __all__\n",
      "Actual                         \n",
      "False        464     7      471\n",
      "True          12   517      529\n",
      "__all__      476   524     1000\n",
      "===================================================\n",
      "Evaluation metrics:\n",
      "population: 1000\n",
      "P: 529\n",
      "N: 471\n",
      "PositiveTest: 524\n",
      "NegativeTest: 476\n",
      "TP: 517\n",
      "TN: 464\n",
      "FP: 7\n",
      "FN: 12\n",
      "TPR: 0.9773156899810964\n",
      "TNR: 0.9851380042462845\n",
      "PPV: 0.9866412213740458\n",
      "NPV: 0.9747899159663865\n",
      "FPR: 0.014861995753715499\n",
      "FDR: 0.013358778625954198\n",
      "FNR: 0.022684310018903593\n",
      "ACC: 0.981\n",
      "F1_score: 0.9819563152896487\n",
      "MCC: 0.961942279910043\n",
      "informedness: 0.9624536942273809\n",
      "markedness: 0.9614311373404323\n",
      "prevalence: 0.529\n",
      "LRP: 65.75938428301377\n",
      "LRN: 0.023026530213154293\n",
      "DOR: 2855.809523809524\n",
      "FOR: 0.025210084033613446\n"
     ]
    }
   ],
   "source": [
    "prediction = []\n",
    "for i,_ in enumerate(train_data):\n",
    "    predict = evaluate(train_data[i])\n",
    "    prediction.append(predict)\n",
    "    \n",
    "prediction = np.asarray(prediction, \n",
    "                        dtype=train_labels.dtype)\n",
    "\n",
    "plot_confusion_matrix_metrics(true_labels=train_labels,\n",
    "                              predicted_labels=prediction,\n",
    "                              normalized=True)"
   ]
  },
  {
   "cell_type": "markdown",
   "metadata": {},
   "source": [
    "## 1. Classificação binária de dígitos com regras - dataset completo"
   ]
  },
  {
   "cell_type": "code",
   "execution_count": 99,
   "metadata": {},
   "outputs": [
    {
     "data": {
      "image/png": "[encoded data removed]",
      "text/plain": [
       "<matplotlib.figure.Figure at 0x1d18a8bc748>"
      ]
     },
     "metadata": {},
     "output_type": "display_data"
    },
    {
     "name": "stdout",
     "output_type": "stream",
     "text": [
      "Predicted  False  True  __all__\n",
      "Actual                         \n",
      "False       6811    92     6903\n",
      "True          99  7778     7877\n",
      "__all__     6910  7870    14780\n",
      "===================================================\n",
      "Evaluation metrics:\n",
      "             precision    recall  f1-score   support\n",
      "\n",
      "        0.0       0.99      0.99      0.99      6903\n",
      "        1.0       0.99      0.99      0.99      7877\n",
      "\n",
      "avg / total       0.99      0.99      0.99     14780\n",
      "\n",
      "             precision    recall  f1-score   support\n",
      "\n",
      "        0.0       0.99      0.99      0.99      6903\n",
      "        1.0       0.99      0.99      0.99      7877\n",
      "\n",
      "avg / total       0.99      0.99      0.99     14780\n",
      "\n"
     ]
    }
   ],
   "source": [
    "prediction = []\n",
    "for i,_ in enumerate(data_mnist):\n",
    "    predict = evaluate(data_mnist[i])\n",
    "    prediction.append(predict)\n",
    "    \n",
    "prediction = np.asarray(prediction, \n",
    "                        dtype=label_mnist.dtype)\n",
    "\n",
    "plot_confusion_matrix_metrics(true_labels=label_mnist,\n",
    "                              predicted_labels=prediction,\n",
    "                              normalized=True)\n",
    "print(classification_report(label_mnist, prediction)) # evaluation metrics"
   ]
  },
  {
   "cell_type": "markdown",
   "metadata": {},
   "source": [
    "### Funções úteis"
   ]
  },
  {
   "cell_type": "code",
   "execution_count": 4,
   "metadata": {},
   "outputs": [],
   "source": [
    "def plot_histogram(labels):\n",
    "    \"\"\"\n",
    "    Plot dataset histogram\n",
    "\n",
    "    \"\"\"\n",
    "    bins = len(np.unique(labels))\n",
    "    data_hist = plt.hist(labels, bins=np.arange(bins+1) - 0.5, edgecolor='black')\n",
    "    axes = plt.gca()  # Get Current Axes\n",
    "    axes.set_ylim([0, len(labels)])\n",
    "#     axes.set_ylim([0, max(data_hist[0]) + max(data_hist[0]) * 0.3])\n",
    "    plt.title(\"Histogram of {} images\".format(len(labels)))\n",
    "    plt.xticks(np.arange(bins+1), np.unique(labels))\n",
    "    plt.xlabel(\"Label\")\n",
    "    plt.ylabel(\"Frequency\")\n",
    "    print(data_hist[1], data_hist[1][0])\n",
    "    for i in range(bins):\n",
    "        plt.text(data_hist[1][i] + 0.1,\n",
    "                 data_hist[0][i] + (data_hist[0][i] * 0.2),\n",
    "                 str(int(data_hist[0][i])))\n",
    "\n",
    "    plt.plot()"
   ]
  },
  {
   "cell_type": "code",
   "execution_count": 5,
   "metadata": {},
   "outputs": [],
   "source": [
    "def array2img(img_array, label=None, grid=False):\n",
    "    img = np.reshape(img_array, (28,28))\n",
    "    plt.xlabel(\"Digit: {}\".format(label), fontsize=18)\n",
    "    plt.grid(grid)\n",
    "    plt.imshow(img, cmap='binary')"
   ]
  },
  {
   "cell_type": "code",
   "execution_count": 6,
   "metadata": {},
   "outputs": [],
   "source": [
    "def get_samples(data, labels, size=3):\n",
    "    idx_samples = np.random.randint(low=0, \n",
    "                                    high=len(labels),\n",
    "                                    size=size)\n",
    "    sample_data = np.array([data[idx] for idx in idx_samples])\n",
    "    sample_labels = np.array([labels[idx] for idx in idx_samples])\n",
    "    return sample_data, sample_labels"
   ]
  },
  {
   "cell_type": "code",
   "execution_count": 7,
   "metadata": {},
   "outputs": [],
   "source": [
    "def plot_confusion_matrix_metrics(true_labels=None, predicted_labels=None, normalized=False):\n",
    "    cm = ConfusionMatrix(true_labels, predicted_labels)\n",
    "    cm.plot(cmap='GnBu', normalized=normalized)\n",
    "    ax = plt.gca()\n",
    "    label_dict = {\"True\": 1, \"False\": 0}\n",
    "    str_labels = [ 'Digit {}'.format(label_dict.get(i.get_text(), i)) for i in ax.get_xticklabels() ] \n",
    "    ax.set_xticklabels(str_labels, rotation=0, horizontalalignment='center')\n",
    "    ax.set_yticklabels(str_labels)\n",
    "    cm_array = cm.to_array()\n",
    "    width, height = cm_array.shape\n",
    "    for x in range(width):\n",
    "        for y in range(height):\n",
    "            plt.annotate(str(cm_array[x][y]), \n",
    "                         xy=(y, x), \n",
    "                         horizontalalignment='center',\n",
    "                         verticalalignment='center')\n",
    "    plt.show()\n",
    "    print(cm)\n",
    "    print(\"===================================================\")\n",
    "    print(\"Evaluation metrics:\")\n",
    "    cm.print_stats()\n",
    "    #print(classification_report(true_labels, predicted_labels)) # evaluation metrics"
   ]
  },
  {
   "cell_type": "code",
   "execution_count": null,
   "metadata": {},
   "outputs": [],
   "source": []
  }
 ],
 "metadata": {
  "kernelspec": {
   "display_name": "Python 3",
   "language": "python",
   "name": "python3"
  },
  "language_info": {
   "codemirror_mode": {
    "name": "ipython",
    "version": 3
   },
   "file_extension": ".py",
   "mimetype": "text/x-python",
   "name": "python",
   "nbconvert_exporter": "python",
   "pygments_lexer": "ipython3",
   "version": "3.6.2"
  }
 },
 "nbformat": 4,
 "nbformat_minor": 2
}
