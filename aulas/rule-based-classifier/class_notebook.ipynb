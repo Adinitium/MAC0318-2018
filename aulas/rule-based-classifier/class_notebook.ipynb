{
 "cells": [
  {
   "cell_type": "code",
   "execution_count": 3,
   "metadata": {},
   "outputs": [],
   "source": [
    "import numpy as np\n",
    "import matplotlib.pyplot as plt\n",
    "import IPython.display as display\n",
    "import util\n",
    "from sklearn.datasets import fetch_mldata\n",
    "\n",
    "%matplotlib inline "
   ]
  },
  {
   "cell_type": "markdown",
   "metadata": {},
   "source": [
    "### Download MNIST e separar apenas os exemplos de dígitos 0 e 1"
   ]
  },
  {
   "cell_type": "code",
   "execution_count": 4,
   "metadata": {},
   "outputs": [
    {
     "name": "stdout",
     "output_type": "stream",
     "text": [
      "(14780, 784) (14780,)\n"
     ]
    }
   ],
   "source": [
    "mnist = fetch_mldata('MNIST original') \n",
    "vals = set()\n",
    "for idx, label in enumerate(mnist.target):\n",
    "    if (label < 2):\n",
    "        vals.add(idx)\n",
    "data_mnist = np.array([mnist.data[idx] for idx in vals])\n",
    "label_mnist = np.array([mnist.target[idx] for idx in vals])\n",
    "print(data_mnist.shape, label_mnist.shape)"
   ]
  },
  {
   "cell_type": "markdown",
   "metadata": {},
   "source": [
    "### Selecionando e visualizando um subdataset com n exemplos"
   ]
  },
  {
   "cell_type": "code",
   "execution_count": 9,
   "metadata": {},
   "outputs": [],
   "source": [
    "new_data, new_labels = util.get_samples(data_mnist, \n",
    "                                        label_mnist, \n",
    "                                        size=14780)"
   ]
  },
  {
   "cell_type": "code",
   "execution_count": 10,
   "metadata": {},
   "outputs": [
    {
     "ename": "AssertionError",
     "evalue": "Too many images to display, limit is 20.",
     "output_type": "error",
     "traceback": [
      "\u001b[1;31m---------------------------------------------------------------------------\u001b[0m",
      "\u001b[1;31mAssertionError\u001b[0m                            Traceback (most recent call last)",
      "\u001b[1;32m<ipython-input-10-15dc5342b2f2>\u001b[0m in \u001b[0;36m<module>\u001b[1;34m()\u001b[0m\n\u001b[0;32m      1\u001b[0m util.plot_img_grid(new_data, \n\u001b[0;32m      2\u001b[0m                    \u001b[0mnew_labels\u001b[0m\u001b[1;33m,\u001b[0m\u001b[1;33m\u001b[0m\u001b[0m\n\u001b[1;32m----> 3\u001b[1;33m                    max_cols = len(new_labels))\n\u001b[0m",
      "\u001b[1;32m~\\Desktop\\MAC0318-2018\\aulas\\rule-based-classifier\\util.py\u001b[0m in \u001b[0;36mplot_img_grid\u001b[1;34m(data, labels, max_cols)\u001b[0m\n\u001b[0;32m     34\u001b[0m \u001b[1;33m\u001b[0m\u001b[0m\n\u001b[0;32m     35\u001b[0m     \"\"\"\n\u001b[1;32m---> 36\u001b[1;33m     \u001b[1;32massert\u001b[0m \u001b[0mlen\u001b[0m\u001b[1;33m(\u001b[0m\u001b[0mlabels\u001b[0m\u001b[1;33m)\u001b[0m \u001b[1;33m<=\u001b[0m \u001b[1;36m20\u001b[0m\u001b[1;33m,\u001b[0m \u001b[1;34m\"Too many images to display, limit is 20.\"\u001b[0m\u001b[1;33m\u001b[0m\u001b[0m\n\u001b[0m\u001b[0;32m     37\u001b[0m     \u001b[0mmax_rows\u001b[0m \u001b[1;33m=\u001b[0m \u001b[0mmath\u001b[0m\u001b[1;33m.\u001b[0m\u001b[0mceil\u001b[0m\u001b[1;33m(\u001b[0m\u001b[0mlen\u001b[0m\u001b[1;33m(\u001b[0m\u001b[0mlabels\u001b[0m\u001b[1;33m)\u001b[0m \u001b[1;33m/\u001b[0m \u001b[0mmax_cols\u001b[0m\u001b[1;33m)\u001b[0m\u001b[1;33m\u001b[0m\u001b[0m\n\u001b[0;32m     38\u001b[0m     \u001b[1;32mfor\u001b[0m \u001b[0mi\u001b[0m \u001b[1;32min\u001b[0m \u001b[0mrange\u001b[0m\u001b[1;33m(\u001b[0m\u001b[0mlen\u001b[0m\u001b[1;33m(\u001b[0m\u001b[0mlabels\u001b[0m\u001b[1;33m)\u001b[0m\u001b[1;33m)\u001b[0m\u001b[1;33m:\u001b[0m\u001b[1;33m\u001b[0m\u001b[0m\n",
      "\u001b[1;31mAssertionError\u001b[0m: Too many images to display, limit is 20."
     ]
    }
   ],
   "source": [
    "util.plot_img_grid(new_data, \n",
    "                   new_labels, \n",
    "                   max_cols = len(new_labels))"
   ]
  },
  {
   "cell_type": "markdown",
   "metadata": {},
   "source": [
    "### Snippet simples que itera sobre uma lista de vetores de imagem e mostra eles em tela com uma pausa de 1 segundo "
   ]
  },
  {
   "cell_type": "code",
   "execution_count": null,
   "metadata": {},
   "outputs": [],
   "source": [
    "for i in range(len(new_labels)):\n",
    "    util.array_imshow(new_data[i], new_labels[i])\n",
    "    plt.pause(1)\n",
    "    display.clear_output(wait=True)\n",
    "    display.display(plt.gcf())"
   ]
  },
  {
   "cell_type": "markdown",
   "metadata": {},
   "source": [
    "## Exemplo Classificação binária de dígitos com base em regras\n",
    "\n",
    "#### Analisando as imagens dos dígitos 0 e 1, codifique uma função que receba uma imagem e retorne uma predição em float: 0.0 se o dígito for reconhecido como zero e 1.0 caso contrário"
   ]
  },
  {
   "cell_type": "code",
   "execution_count": 11,
   "metadata": {},
   "outputs": [],
   "source": [
    "def classifier(flat_img):\n",
    "    img = util.array2img(flat_img)\n",
    "    center_img = img[14:17, 13:16] \n",
    "    if (np.mean(center_img) > 100):\n",
    "        return 1.0\n",
    "    else:\n",
    "        return 0.0"
   ]
  },
  {
   "cell_type": "code",
   "execution_count": 12,
   "metadata": {},
   "outputs": [
    {
     "data": {
      "image/png": "[encoded data removed]",
      "text/plain": [
       "<matplotlib.figure.Figure at 0x19632c5da20>"
      ]
     },
     "metadata": {},
     "output_type": "display_data"
    },
    {
     "name": "stdout",
     "output_type": "stream",
     "text": [
      "Predicted  False  True  __all__\n",
      "Actual                         \n",
      "False       6762   117     6879\n",
      "True         105  7796     7901\n",
      "__all__     6867  7913    14780\n",
      "===================================================\n",
      "Evaluation metrics:\n",
      "population: 14780\n",
      "P: 7901\n",
      "N: 6879\n",
      "PositiveTest: 7913\n",
      "NegativeTest: 6867\n",
      "TP: 7796\n",
      "TN: 6762\n",
      "FP: 117\n",
      "FN: 105\n",
      "TPR: 0.9867105429692444\n",
      "TNR: 0.9829917139119058\n",
      "PPV: 0.9852142044736509\n",
      "NPV: 0.9847094801223242\n",
      "FPR: 0.0170082860880942\n",
      "FDR: 0.014785795526349045\n",
      "FNR: 0.0132894570307556\n",
      "ACC: 0.984979702300406\n",
      "F1_score: 0.9859618059946883\n",
      "MCC: 0.9698129644190152\n",
      "informedness: 0.9697022568811502\n",
      "markedness: 0.9699236845959751\n",
      "prevalence: 0.534573748308525\n",
      "LRP: 58.013519872525066\n",
      "LRN: 0.013519398833860954\n",
      "DOR: 4291.131623931625\n",
      "FOR: 0.01529051987767584\n"
     ]
    }
   ],
   "source": [
    "predictions = []\n",
    "for i,_ in enumerate(new_data):\n",
    "    class_prediction = classifier(new_data[i])\n",
    "    predictions.append(class_prediction)\n",
    "    \n",
    "predictions = np.asarray(predictions, \n",
    "                         dtype=new_labels.dtype)\n",
    "\n",
    "util.plot_confusion_matrix_metrics(true_labels=new_labels,\n",
    "                                   predicted_labels=predictions,\n",
    "                                   normalized=True)"
   ]
  },
  {
   "cell_type": "code",
   "execution_count": null,
   "metadata": {},
   "outputs": [],
   "source": []
  }
 ],
 "metadata": {
  "kernelspec": {
   "display_name": "Python 3",
   "language": "python",
   "name": "python3"
  },
  "language_info": {
   "codemirror_mode": {
    "name": "ipython",
    "version": 3
   },
   "file_extension": ".py",
   "mimetype": "text/x-python",
   "name": "python",
   "nbconvert_exporter": "python",
   "pygments_lexer": "ipython3",
   "version": "3.6.2"
  }
 },
 "nbformat": 4,
 "nbformat_minor": 2
}
